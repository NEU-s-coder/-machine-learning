{
 "cells": [
  {
   "cell_type": "code",
   "execution_count": null,
   "id": "d86b627f",
   "metadata": {},
   "outputs": [],
   "source": [
    "# coding=utf-8\n",
    "import numpy as np\n",
    "import cv2\n",
    "import pandas as pd\n",
    "import os\n",
    "%matplotlib inline\n",
    "import matplotlib\n",
    "import matplotlib.pyplot as plt\n",
    "from glob import glob\n",
    "import seaborn as sns"
   ]
  },
  {
   "cell_type": "code",
   "execution_count": null,
   "id": "201dc54e",
   "metadata": {
    "scrolled": true
   },
   "outputs": [],
   "source": [
    "#整个训练集plant-seedlings-classification文件夹的路径\n",
    "DATA_FOLDER = \".\"\n",
    "# train_folder保存为train文件夹的路径\n",
    "TRAIN_FOLDER = os.path.join(DATA_FOLDER,'train')\n",
    "TEST_FOLDER = os.path.join(DATA_FOLDER,'test')\n",
    "print(os.listdir(TRAIN_FOLDER))\n",
    "print(os.listdir(TEST_FOLDER)[:10])"
   ]
  },
  {
   "cell_type": "code",
   "execution_count": null,
   "id": "f6d7b249",
   "metadata": {
    "scrolled": true
   },
   "outputs": [],
   "source": [
    "train = {}\n",
    "image_type={}\n",
    "i=0\n",
    "'''\n",
    "{0: 'Black-grass', 1: 'Charlock', 2: 'Cleavers', 3: 'Common Chickweed', 4: 'Common wheat', 5: 'Fat Hen', 6: 'Loose Silky-bent',\n",
    "7: 'Maize', 8: 'Scentless Mayweed', 9: 'Shepherds Purse', 10: 'Small-flowered Cranesbill', 11: 'Sugar beet'}\n",
    "'''\n",
    "#train{}为一个字典  train.key()为plant的标签 对应的train[label]为所有的训练的图片的numpy矩阵\n",
    "for plant_name in os.listdir(TRAIN_FOLDER):\n",
    "    plant_path = os.path.join(TRAIN_FOLDER, plant_name)\n",
    "    label = plant_name\n",
    "    train[i] = []\n",
    "    for image_path in glob(os.path.join(plant_path,'*png')):\n",
    "        image = cv2.imread(image_path)\n",
    "        train[i].append(image)\n",
    "    print(plant_path,'读取完成！',label,'->',len(train[i]))\n",
    "    image_type[i]=label\n",
    "    i+=1\n",
    "print(image_type)"
   ]
  },
  {
   "cell_type": "code",
   "execution_count": null,
   "id": "cbd40a98",
   "metadata": {},
   "outputs": [],
   "source": [
    "test_data=[]\n",
    "for image_path in glob(os.path.join(TEST_FOLDER,'*png')):\n",
    "    image = cv2.imread(image_path)\n",
    "    test_data.append(image)\n",
    "print(len(test_data))\n",
    "print(type(test_data))\n",
    "print(test_data[620].shape)"
   ]
  },
  {
   "cell_type": "code",
   "execution_count": null,
   "id": "3117a94d",
   "metadata": {},
   "outputs": [],
   "source": [
    "print(len(train[0]))\n",
    "print(type(train[0][0]))\n",
    "print(train[0][0].dtype)\n",
    "print(train[0][0].shape)"
   ]
  },
  {
   "cell_type": "code",
   "execution_count": null,
   "id": "b2f48633",
   "metadata": {},
   "outputs": [],
   "source": [
    "#显示一个label的前6张图片\n",
    "def plot_for_class(label):\n",
    "    nb_rows = 2\n",
    "    nb_cols = 3\n",
    "    fig, axs = plt.subplots(nb_rows, nb_cols, figsize=(5, 5))\n",
    "\n",
    "    n = 0\n",
    "    for i in range(0, nb_rows):\n",
    "        for j in range(0, nb_cols):\n",
    "            axs[i, j].xaxis.set_ticklabels([])\n",
    "            axs[i, j].yaxis.set_ticklabels([])\n",
    "            axs[i, j].imshow(train[label][n])\n",
    "            n += 1      "
   ]
  },
  {
   "cell_type": "code",
   "execution_count": null,
   "id": "f99380de",
   "metadata": {},
   "outputs": [],
   "source": [
    "plot_for_class(0)"
   ]
  },
  {
   "cell_type": "code",
   "execution_count": null,
   "id": "b8cccb7f",
   "metadata": {},
   "outputs": [],
   "source": [
    "def create_mask_for_plant(image):\n",
    "    #bgr转化为hsv\n",
    "    image_hsv = cv2.cvtColor(image, cv2.COLOR_BGR2HSV)\n",
    "\n",
    "    sensitivity = 35\n",
    "    lower_hsv = np.array([60 - sensitivity, 100, 50])\n",
    "    upper_hsv = np.array([60 + sensitivity, 255, 255])\n",
    "    \n",
    "    #二值化\n",
    "    mask = cv2.inRange(image_hsv, lower_hsv, upper_hsv)\n",
    "    \n",
    "    kernel = cv2.getStructuringElement(cv2.MORPH_ELLIPSE, (5,5))\n",
    "    \n",
    "    # 形态学开操作\n",
    "    mask = cv2.morphologyEx(mask, cv2.MORPH_CLOSE, kernel)\n",
    "    \n",
    "    return mask\n",
    "\n",
    "def segment_plant(image):\n",
    "    mask = create_mask_for_plant(image)\n",
    "    output = cv2.bitwise_and(image, image, mask = mask)\n",
    "    return output\n",
    "\n",
    "def sharpen_image(image):\n",
    "    image_blurred = cv2.GaussianBlur(image, (0, 0), 3)\n",
    "    image_sharp = cv2.addWeighted(image, 1.5, image_blurred, -0.5, 0)\n",
    "    return image_sharp"
   ]
  },
  {
   "cell_type": "code",
   "execution_count": 9,
   "id": "54dafcdf",
   "metadata": {
    "scrolled": true
   },
   "outputs": [
    {
     "ename": "NameError",
     "evalue": "name 'create_mask_for_plant' is not defined",
     "output_type": "error",
     "traceback": [
      "\u001b[1;31m---------------------------------------------------------------------------\u001b[0m",
      "\u001b[1;31mNameError\u001b[0m                                 Traceback (most recent call last)",
      "\u001b[1;32m<ipython-input-9-9e4c1ffa7fe4>\u001b[0m in \u001b[0;36m<module>\u001b[1;34m\u001b[0m\n\u001b[0;32m      2\u001b[0m \u001b[0mimage\u001b[0m \u001b[1;33m=\u001b[0m \u001b[0mtrain\u001b[0m\u001b[1;33m[\u001b[0m\u001b[1;36m0\u001b[0m\u001b[1;33m]\u001b[0m\u001b[1;33m[\u001b[0m\u001b[1;36m0\u001b[0m\u001b[1;33m]\u001b[0m\u001b[1;33m\u001b[0m\u001b[1;33m\u001b[0m\u001b[0m\n\u001b[0;32m      3\u001b[0m \u001b[1;33m\u001b[0m\u001b[0m\n\u001b[1;32m----> 4\u001b[1;33m \u001b[0mimage_mask\u001b[0m \u001b[1;33m=\u001b[0m \u001b[0mcreate_mask_for_plant\u001b[0m\u001b[1;33m(\u001b[0m\u001b[0mimage\u001b[0m\u001b[1;33m)\u001b[0m\u001b[1;33m\u001b[0m\u001b[1;33m\u001b[0m\u001b[0m\n\u001b[0m\u001b[0;32m      5\u001b[0m \u001b[0mimage_segmented\u001b[0m \u001b[1;33m=\u001b[0m \u001b[0msegment_plant\u001b[0m\u001b[1;33m(\u001b[0m\u001b[0mimage\u001b[0m\u001b[1;33m)\u001b[0m\u001b[1;33m\u001b[0m\u001b[1;33m\u001b[0m\u001b[0m\n\u001b[0;32m      6\u001b[0m \u001b[0mimage_sharpen\u001b[0m \u001b[1;33m=\u001b[0m \u001b[0msharpen_image\u001b[0m\u001b[1;33m(\u001b[0m\u001b[0mimage_segmented\u001b[0m\u001b[1;33m)\u001b[0m\u001b[1;33m\u001b[0m\u001b[1;33m\u001b[0m\u001b[0m\n",
      "\u001b[1;31mNameError\u001b[0m: name 'create_mask_for_plant' is not defined"
     ]
    }
   ],
   "source": [
    "# Test image to see the changes\n",
    "image = train[0][0]\n",
    "\n",
    "image_mask = create_mask_for_plant(image)\n",
    "image_segmented = segment_plant(image)\n",
    "image_sharpen = sharpen_image(image_segmented)\n",
    "\n",
    "fig, axs = plt.subplots(1, 4, figsize=(20, 20))\n",
    "axs[0].imshow(image)\n",
    "axs[1].imshow(image_mask)\n",
    "axs[2].imshow(image_segmented)\n",
    "axs[3].imshow(image_sharpen)"
   ]
  },
  {
   "cell_type": "code",
   "execution_count": null,
   "id": "2ff58cd7",
   "metadata": {},
   "outputs": [],
   "source": [
    "def calculate_largest_contour_area(contours):\n",
    "    if len(contours) == 0:\n",
    "        return 0\n",
    "    c = max(contours, key=cv2.contourArea)\n",
    "    return cv2.contourArea(c)\n",
    "\n",
    "def calculate_contours_area(contours, min_contour_area = 250):\n",
    "    area = 0\n",
    "    for c in contours:\n",
    "        c_area = cv2.contourArea(c)\n",
    "        if c_area >= min_contour_area:\n",
    "            area += c_area\n",
    "    return area"
   ]
  },
  {
   "cell_type": "code",
   "execution_count": null,
   "id": "6bd3924f",
   "metadata": {},
   "outputs": [],
   "source": [
    "areas = []\n",
    "larges_contour_areas = []\n",
    "labels = []\n",
    "nb_of_contours = []\n",
    "images_height = []\n",
    "images_width = []\n",
    "\n",
    "\n",
    "for class_label in train.keys():\n",
    "    for image in train[class_label]:\n",
    "        mask = create_mask_for_plant(image)\n",
    "        contours = cv2.findContours(mask, cv2.RETR_EXTERNAL, cv2.CHAIN_APPROX_SIMPLE)[0]\n",
    "        area = calculate_contours_area(contours)\n",
    "        largest_area = calculate_largest_contour_area(contours)\n",
    "        height, width, channels = image.shape\n",
    "        images_height.append(height)\n",
    "        images_width.append(width)\n",
    "        areas.append(area)\n",
    "        nb_of_contours.append(len(contours))\n",
    "        larges_contour_areas.append(largest_area)\n",
    "        labels.append(class_label)"
   ]
  },
  {
   "cell_type": "code",
   "execution_count": null,
   "id": "ad92b0a8",
   "metadata": {},
   "outputs": [],
   "source": [
    "features_df = pd.DataFrame()\n",
    "features_df[\"label\"] = labels\n",
    "features_df[\"area\"] = areas\n",
    "features_df[\"largest_area\"] = larges_contour_areas\n",
    "features_df[\"number_of_components\"] = nb_of_contours\n",
    "features_df[\"height\"] = images_height\n",
    "features_df[\"width\"] = images_width"
   ]
  },
  {
   "cell_type": "code",
   "execution_count": null,
   "id": "c0f3e47e",
   "metadata": {},
   "outputs": [],
   "source": [
    "len(test_data)"
   ]
  },
  {
   "cell_type": "code",
   "execution_count": null,
   "id": "3dc5c3a6",
   "metadata": {},
   "outputs": [],
   "source": [
    "test_areas = []\n",
    "test_larges_contour_areas = []\n",
    "test_nb_of_contours = []\n",
    "test_images_height = []\n",
    "test_images_width = []\n",
    "for image in test_data:\n",
    "    mask = create_mask_for_plant(image)\n",
    "    contours = cv2.findContours(mask, cv2.RETR_EXTERNAL, cv2.CHAIN_APPROX_SIMPLE)[0]\n",
    "    area = calculate_contours_area(contours)\n",
    "    largest_area = calculate_largest_contour_area(contours)\n",
    "    height, width, channels = image.shape\n",
    "    \n",
    "    test_images_height.append(height)\n",
    "    test_images_width.append(width)\n",
    "    test_areas.append(area)\n",
    "    test_nb_of_contours.append(len(contours))\n",
    "    test_larges_contour_areas.append(largest_area)\n",
    "features_test = pd.DataFrame()\n",
    "features_test[\"area\"] = test_areas\n",
    "features_test[\"largest_area\"] = test_larges_contour_areas\n",
    "features_test[\"number_of_components\"] = test_nb_of_contours\n",
    "features_test[\"height\"] = test_images_height\n",
    "features_test[\"width\"] = test_images_width"
   ]
  },
  {
   "cell_type": "code",
   "execution_count": null,
   "id": "1fd39ef7",
   "metadata": {},
   "outputs": [],
   "source": [
    "# print(features_df.groupby(\"label\").describe())\n",
    "print(features_df.head())\n",
    "print(features_test.head())\n",
    "# features_df.to_csv('train.csv',index=False)"
   ]
  },
  {
   "cell_type": "code",
   "execution_count": null,
   "id": "f04009ac",
   "metadata": {},
   "outputs": [],
   "source": [
    "type(features_df)"
   ]
  },
  {
   "cell_type": "code",
   "execution_count": null,
   "id": "bdb97377",
   "metadata": {},
   "outputs": [],
   "source": [
    "from sklearn.linear_model import LassoCV,RidgeCV\n",
    "\n",
    "from sklearn.model_selection import KFold, cross_val_score\n",
    "from sklearn.preprocessing import RobustScaler\n",
    "from sklearn.preprocessing import label_binarize\n",
    "from sklearn.multiclass import OneVsRestClassifier,OneVsOneClassifier\n",
    "from sklearn.model_selection import train_test_split\n",
    "from sklearn import svm\n",
    "from sklearn import metrics\n",
    "from sklearn.linear_model import LogisticRegression\n",
    "import joblib\n",
    "import warnings\n",
    "\n",
    "# 忽略警告\n",
    "warnings.filterwarnings(\"ignore\")"
   ]
  },
  {
   "cell_type": "code",
   "execution_count": null,
   "id": "839a33ac",
   "metadata": {},
   "outputs": [],
   "source": [
    "features_df.head()"
   ]
  },
  {
   "cell_type": "code",
   "execution_count": null,
   "id": "8e2be452",
   "metadata": {},
   "outputs": [],
   "source": [
    "train=features_df.iloc[:,1:]\n",
    "\n",
    "train = train.apply(lambda x: (x - x.mean()) / (x.std())) #归一化\n",
    "\n",
    "label=features_df.iloc[:,:1]\n",
    "print(train.head(),label.head(),sep='\\n')\n",
    "print(train.shape,label.shape)\n",
    "\n",
    "\n"
   ]
  },
  {
   "cell_type": "code",
   "execution_count": null,
   "id": "1cce891e",
   "metadata": {
    "scrolled": false
   },
   "outputs": [],
   "source": [
    "\n",
    "# model = OneVsRestClassifier(svm.SVC(kernel='linear',probability=True)) #0.28\n",
    "# model = OneVsRestClassifier(svm.SVC(kernel='linear')) #0.28\n",
    "model = OneVsOneClassifier(svm.SVC(kernel='linear',probability=True,max_iter=80000)) #0.28\n",
    "# model=OneVsRestClassifier(LogisticRegression(solver=\"liblinear\",max_iter=80000)) #0.29\n",
    "# model=OneVsOneClassifier(LogisticRegression(solver=\"lbfgs\",max_iter=800))\n",
    "print(train.head())\n",
    "\n",
    "model.fit(np.array(train),np.array(label))\n",
    "print( len(model.estimators_) )\n",
    "print(\"========\",metrics.accuracy_score(np.array(label),model.predict(np.array(train))))\n",
    "\n",
    "joblib.dump(model,'svc.pkl')\n",
    "#重新加载model，只有保存一次后才能加载model\n",
    "# clf3=joblib.load('sklearn_save/clf.pkl')\n",
    "# print(clf3.predict(X[0:1]))"
   ]
  },
  {
   "cell_type": "code",
   "execution_count": null,
   "id": "e70f8da1",
   "metadata": {},
   "outputs": [],
   "source": [
    "features_test = features_test.apply(lambda x: (x - x.mean()) / (x.std())) #归一化\n",
    "preds = model.predict(features_test)\n",
    "print(type(preds),preds.shape)\n",
    "\n",
    "preds=pd.DataFrame(preds)\n",
    "print(preds.shape)\n",
    "print(preds)\n",
    "for i in range(12):\n",
    "    preds = preds.replace(i,image_type[i])\n",
    "print(preds)\n",
    "\n",
    "'''{0: 'Black-grass', 1: 'Charlock', 2: 'Cleavers', 3: 'Common Chickweed', 4: 'Common wheat', 5: 'Fat Hen', 6: 'Loose Silky-bent',\n",
    "7: 'Maize', 8: 'Scentless Mayweed', 9: 'Shepherds Purse', 10: 'Small-flowered Cranesbill', 11: 'Sugar beet'}\n",
    "'''\n",
    "# submission = pd.DataFrame({'file': sample['file'], 'species': pre})\n",
    "# submission.to_csv('submission.csv', index=False)\n",
    "\n",
    "sample = pd.read_csv(\"sample_submission.csv\")\n",
    "submission = pd.DataFrame({'file': sample['file'], 'species': preds[0]})\n",
    "submission.to_csv('submission.csv', index=False)\n",
    "\n",
    "# test_df['species'] = pd.Series(preds[0])\n",
    "# submission = pd.concat([sample['file'], test_df['species']], axis=1)\n",
    "# submission.to_csv('submission.csv', index=False)\n",
    "\n",
    "\n",
    "\n",
    "# submission = pd.DataFrame({'file': sample['file'], 'species': pre})\n",
    "# submission.to_csv('submission.csv', index=False)"
   ]
  },
  {
   "cell_type": "code",
   "execution_count": null,
   "id": "1311a22f",
   "metadata": {},
   "outputs": [],
   "source": [
    "from HOG import *"
   ]
  },
  {
   "cell_type": "code",
   "execution_count": null,
   "id": "24e6c9a8",
   "metadata": {},
   "outputs": [],
   "source": []
  }
 ],
 "metadata": {
  "kernelspec": {
   "display_name": "Python 3",
   "language": "python",
   "name": "python3"
  },
  "language_info": {
   "codemirror_mode": {
    "name": "ipython",
    "version": 3
   },
   "file_extension": ".py",
   "mimetype": "text/x-python",
   "name": "python",
   "nbconvert_exporter": "python",
   "pygments_lexer": "ipython3",
   "version": "3.8.8"
  }
 },
 "nbformat": 4,
 "nbformat_minor": 5
}
