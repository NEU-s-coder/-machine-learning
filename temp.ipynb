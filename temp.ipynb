{
 "cells": [
  {
   "cell_type": "code",
   "execution_count": null,
   "metadata": {},
   "outputs": [],
   "source": [
    "from HOG import *\n",
    "\n",
    "model=joblib.load('hog+svmOVO-poly.pkl')\n",
    "train_data=pickle.load(open(\"train_data.pkl\",'rb'))\n",
    "test_data=pickle.load(open(\"test_data.pkl\",'rb'))\n",
    "image_type=pickle.load(open(\"image_type.pkl\",'rb'))\n",
    "print(train_data.keys())\n",
    "print(len(test_data))\n",
    "print(image_type)"
   ]
  },
  {
   "cell_type": "code",
   "execution_count": null,
   "metadata": {},
   "outputs": [],
   "source": [
    "train_feature=[]\n",
    "train_label=[]\n",
    "for class_label in train_data.keys():\n",
    "    for image in train_data[class_label]:\n",
    "        feature = get_HOG_feature(image)\n",
    "        train_feature.append(feature)\n",
    "        train_label.append(class_label)\n",
    "print(len(train_feature))\n",
    "print(len(train_label))"
   ]
  },
  {
   "cell_type": "code",
   "execution_count": null,
   "metadata": {},
   "outputs": [],
   "source": [
    "# train_feature=np.array(train_feature)\n",
    "train_feature.shape\n",
    "q=pd.DataFrame(train_feature)\n",
    "q.head()"
   ]
  },
  {
   "cell_type": "code",
   "execution_count": null,
   "metadata": {},
   "outputs": [],
   "source": [
    "print(train_label[1200:1300])\n",
    "print(preds[1200:1300])"
   ]
  },
  {
   "cell_type": "code",
   "execution_count": null,
   "metadata": {},
   "outputs": [],
   "source": [
    "type(preds)\n",
    "q={}\n",
    "for i in preds:\n",
    "    if i in q.keys():\n",
    "        q[i]+=1\n",
    "    else:\n",
    "        q[i]=1\n",
    "q"
   ]
  },
  {
   "cell_type": "code",
   "execution_count": null,
   "metadata": {},
   "outputs": [],
   "source": [
    "test_feature=[]\n",
    "for image in test_data:\n",
    "    feature = get_HOG_feature(image)\n",
    "    test_feature.append(feature)\n",
    "print(len(test_feature))"
   ]
  },
  {
   "cell_type": "code",
   "execution_count": null,
   "metadata": {},
   "outputs": [],
   "source": [
    "print(test_feature[220])"
   ]
  },
  {
   "cell_type": "code",
   "execution_count": null,
   "metadata": {},
   "outputs": [],
   "source": [
    "np.array(train_feature).shape"
   ]
  },
  {
   "cell_type": "code",
   "execution_count": null,
   "metadata": {},
   "outputs": [],
   "source": [
    "a=[1,2,3,4,5,6,7,8,9,10]\n",
    "import numpy as np\n",
    "a=np.array(a)\n",
    "\n",
    "b=[]\n",
    "def fun(x):\n",
    "    return x**2\n",
    "\n",
    "\n",
    "\n",
    "for i in a:\n",
    "    f=fun(i)\n",
    "    print(i)\n",
    "    b.append(f)\n",
    "print(b)\n",
    "print(a,type(a))"
   ]
  },
  {
   "cell_type": "code",
   "execution_count": null,
   "metadata": {},
   "outputs": [],
   "source": [
    "help(print)"
   ]
  },
  {
   "cell_type": "code",
   "execution_count": 8,
   "metadata": {},
   "outputs": [
    {
     "data": {
      "text/plain": [
       "-1"
      ]
     },
     "execution_count": 8,
     "metadata": {},
     "output_type": "execute_result"
    }
   ],
   "source": [
    "import cv2\n",
    "import numpy as np\n",
    "def create_mask_for_plant(image):\n",
    "    #bgr转化为hsv\n",
    "    image_hsv = cv2.cvtColor(image, cv2.COLOR_BGR2HSV)\n",
    "\n",
    "    sensitivity = 35\n",
    "    lower_hsv = np.array([60 - sensitivity, 100, 50])\n",
    "    upper_hsv = np.array([60 + sensitivity, 255, 255])\n",
    "    \n",
    "    #二值化\n",
    "    mask = cv2.inRange(image_hsv, lower_hsv, upper_hsv)\n",
    "    kernel = cv2.getStructuringElement(cv2.MORPH_ELLIPSE, (5,5))\n",
    "    \n",
    "    # 形态学开操作\n",
    "    mask = cv2.morphologyEx(mask, cv2.MORPH_OPEN, kernel)\n",
    "    \n",
    "    return mask\n",
    "def segment_plant(image):\n",
    "    mask = create_mask_for_plant(image)\n",
    "    # 利用掩膜进行图像混合\n",
    "    output = cv2.bitwise_and(image, image, mask = mask)\n",
    "    return output\n",
    "def sharpen_image(image):\n",
    "    image_blurred = cv2.GaussianBlur(image, (0, 0), 3)\n",
    "    image_sharp = cv2.addWeighted(image, 1.5, image_blurred, -0.5, 0)\n",
    "    return image_sharp\n",
    "\n",
    "image=cv2.imread('./test/00c47e980.png')\n",
    "mask1=segment_plant(image)\n",
    "mask2=sharpen_image(mask1)\n",
    "\n",
    "mask3 = cv2.cvtColor(mask2, cv2.COLOR_BGR2GRAY)\n",
    "cv2.imshow('1',mask1)\n",
    "cv2.imshow('2',mask2)\n",
    "cv2.imshow('3',mask3)\n",
    "cv2.imshow('0',image)\n",
    "cv2.waitKey(0)"
   ]
  },
  {
   "cell_type": "code",
   "execution_count": null,
   "metadata": {},
   "outputs": [],
   "source": [
    "image_segmented = segment_plant(image)\n",
    "image_sharpen = sharpen_image(image_segmented)"
   ]
  },
  {
   "cell_type": "code",
   "execution_count": 12,
   "metadata": {},
   "outputs": [
    {
     "name": "stdout",
     "output_type": "stream",
     "text": [
      "[3 6 1 6 6 5 1 4 5 6 3 5 2 5 6 3 1 1 3 3 2 6 3 2 6 6 5 2 1 1 4] [6 1 1 3 4 3 6 4] [3 6 1 6 6 5 1 4 5 6 3 5 2 5 6 3 1 1 3 3 2 6 3 2 6 6 5 2 1 1 4] [6 1 1 3 4 3 6 4]\n"
     ]
    }
   ],
   "source": [
    "import cv2\n",
    "\n",
    "from sklearn.model_selection import train_test_split\n",
    "import numpy as np\n",
    "a=np.array([1,1,1,1,1,1,1,1,2,2,2,2,3,3,3,3,3,3,3,3,4,4,4,4,5,5,5,5,5,6,6,6,6,6,6,6,6,6,6])\n",
    "b=np.array([1,1,1,1,1,1,1,1,2,2,2,2,3,3,3,3,3,3,3,3,4,4,4,4,5,5,5,5,5,6,6,6,6,6,6,6,6,6,6])\n",
    "a1,b1,a2,b2=train_test_split(a,b,test_size=0.2)\n",
    "print(a1,b1,a2,b2)\n",
    "# dir(cv2.HOGDescriptor)\n",
    "# help(cv2.HOGDescriptor)"
   ]
  },
  {
   "cell_type": "code",
   "execution_count": 40,
   "metadata": {},
   "outputs": [
    {
     "name": "stdout",
     "output_type": "stream",
     "text": [
      "(128, 128)\n",
      "(16384,)\n",
      "(16384,)\n"
     ]
    },
    {
     "data": {
      "text/plain": [
       "-1"
      ]
     },
     "execution_count": 40,
     "metadata": {},
     "output_type": "execute_result"
    }
   ],
   "source": [
    "from skimage.feature import local_binary_pattern\n",
    "from main import *\n",
    "image=cv2.imread('./test/00c47e980.png')\n",
    "image= segment_plant(image)\n",
    "image = cv2.resize(image,(128,128))\n",
    "cv2.imshow('0',image)\n",
    "radius = 2  # LBP算法中范围半径的取值\n",
    "n_points = 16 * radius  # 领域像素点数\n",
    "gray = cv2.cvtColor(image, cv2.COLOR_BGR2GRAY)\n",
    "lbp = local_binary_pattern(gray, n_points, radius)\n",
    "# cv2.calcHist([lbp], [0], None, [256], [0, 256])\n",
    "print(lbp.shape)\n",
    "q=lbp.flatten()\n",
    "print(q.shape)\n",
    "q=np.reshape(lbp, (lbp.shape[1]*lbp.shape[1],))\n",
    "print(q.shape)\n",
    "cv2.imshow('sp', lbp)\n",
    "cv2.waitKey(0)"
   ]
  },
  {
   "cell_type": "code",
   "execution_count": 12,
   "metadata": {},
   "outputs": [
    {
     "data": {
      "text/plain": [
       "'4.0.1'"
      ]
     },
     "execution_count": 12,
     "metadata": {},
     "output_type": "execute_result"
    }
   ],
   "source": [
    "import cv2\n",
    "cv2.__version__"
   ]
  },
  {
   "cell_type": "code",
   "execution_count": 16,
   "metadata": {},
   "outputs": [
    {
     "data": {
      "text/plain": [
       "[[1, 2, 5, 6, 7]]"
      ]
     },
     "execution_count": 16,
     "metadata": {},
     "output_type": "execute_result"
    }
   ],
   "source": [
    "a=[1,2]\n",
    "b=[5,6,7]\n",
    "a+b\n",
    "c=[]\n",
    "c.append(a+b)\n",
    "c"
   ]
  },
  {
   "cell_type": "code",
   "execution_count": null,
   "metadata": {},
   "outputs": [],
   "source": []
  }
 ],
 "metadata": {
  "interpreter": {
   "hash": "59043a3d10357404cbd5d5a6cc450482c26118e58c93a2ffd93f5aa59110056c"
  },
  "kernelspec": {
   "display_name": "Python 3.8.8 64-bit ('base': conda)",
   "language": "python",
   "name": "python3"
  },
  "language_info": {
   "codemirror_mode": {
    "name": "ipython",
    "version": 3
   },
   "file_extension": ".py",
   "mimetype": "text/x-python",
   "name": "python",
   "nbconvert_exporter": "python",
   "pygments_lexer": "ipython3",
   "version": "3.8.8"
  },
  "orig_nbformat": 4
 },
 "nbformat": 4,
 "nbformat_minor": 2
}
